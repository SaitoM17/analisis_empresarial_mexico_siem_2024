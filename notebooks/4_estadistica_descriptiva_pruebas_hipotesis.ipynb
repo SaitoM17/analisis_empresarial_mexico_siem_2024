{
 "cells": [
  {
   "cell_type": "markdown",
   "id": "d57b6afb",
   "metadata": {},
   "source": [
    "#### **Análisis de Datos**  ***(Estadística descriptiva y pruebas de hipótesis)***"
   ]
  },
  {
   "cell_type": "markdown",
   "id": "a7120d24",
   "metadata": {},
   "source": [
    "***Caluclar estadística descriptiva***\n",
    "\n",
    "**Medias, Medianas y desviación estándar** *(sector(giro)/tamaño/región(estado))*"
   ]
  },
  {
   "cell_type": "markdown",
   "id": "6e52591d",
   "metadata": {},
   "source": [
    "##### **Hipótesis 1:**\n",
    "- *H0: No hay diferencia significativa entre el promedio de empresas por estado en el norte vs sur.*\n",
    "- *H1: Hay diferencia significativa.*\n",
    "\n",
    "(Aplicar prueba t de muestras independientes o ANOVA)"
   ]
  },
  {
   "cell_type": "markdown",
   "id": "99aa68d0",
   "metadata": {},
   "source": [
    "##### **Hipótesis 2**:\n",
    "- *H0: El tamaño de las empresas es independiente del sector económico.*  \n",
    "\n",
    "(Aplicar prueba de chi-cuadrada o análisis de proporciones.)"
   ]
  },
  {
   "cell_type": "markdown",
   "id": "3431c2c1",
   "metadata": {},
   "source": [
    "##### **Intervalos de confianza:**\n",
    "**Por ejemplo, calcular un intervalo del 95% para el número promedio de empresas registradas en cada región o sector.**"
   ]
  }
 ],
 "metadata": {
  "language_info": {
   "name": "python"
  }
 },
 "nbformat": 4,
 "nbformat_minor": 5
}
