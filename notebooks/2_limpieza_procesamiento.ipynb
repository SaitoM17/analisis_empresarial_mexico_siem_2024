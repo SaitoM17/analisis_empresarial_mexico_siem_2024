{
 "cells": [
  {
   "cell_type": "markdown",
   "id": "454055fc",
   "metadata": {},
   "source": [
    "## ***Limpieza y procesamiento de datos***"
   ]
  },
  {
   "cell_type": "code",
   "execution_count": 63,
   "id": "3ccf9850",
   "metadata": {},
   "outputs": [],
   "source": [
    "# Cargar las librerias necesarias\n",
    "import pandas as pd\n",
    "import numpy as np\n",
    "import seaborn as sns\n",
    "import matplotlib.pyplot as plt"
   ]
  },
  {
   "cell_type": "code",
   "execution_count": 64,
   "id": "d1509886",
   "metadata": {},
   "outputs": [
    {
     "data": {
      "text/html": [
       "<div>\n",
       "<style scoped>\n",
       "    .dataframe tbody tr th:only-of-type {\n",
       "        vertical-align: middle;\n",
       "    }\n",
       "\n",
       "    .dataframe tbody tr th {\n",
       "        vertical-align: top;\n",
       "    }\n",
       "\n",
       "    .dataframe thead th {\n",
       "        text-align: right;\n",
       "    }\n",
       "</style>\n",
       "<table border=\"1\" class=\"dataframe\">\n",
       "  <thead>\n",
       "    <tr style=\"text-align: right;\">\n",
       "      <th></th>\n",
       "      <th>razon_social</th>\n",
       "      <th>estado</th>\n",
       "      <th>municipio</th>\n",
       "      <th>domicilio</th>\n",
       "      <th>colonia</th>\n",
       "      <th>cp</th>\n",
       "      <th>telefono</th>\n",
       "      <th>e_mail</th>\n",
       "      <th>giro</th>\n",
       "      <th>scian</th>\n",
       "      <th>rango_de_empleados</th>\n",
       "      <th>registrado_por</th>\n",
       "      <th>fn_razon_social</th>\n",
       "      <th>fn_telefono</th>\n",
       "      <th>fn_e_mail</th>\n",
       "      <th>fn_giro</th>\n",
       "      <th>estado_etq</th>\n",
       "    </tr>\n",
       "  </thead>\n",
       "  <tbody>\n",
       "    <tr>\n",
       "      <th>0</th>\n",
       "      <td>KINAM</td>\n",
       "      <td>México</td>\n",
       "      <td>Texcoco</td>\n",
       "      <td>Avenida HIDALGO 703 int 101-1</td>\n",
       "      <td>Colonia SAN SEBASTIAN</td>\n",
       "      <td>56130</td>\n",
       "      <td>5949565441</td>\n",
       "      <td>miguel.duran@kinamtrailers.com.mx</td>\n",
       "      <td>autotanques de acero al carbon</td>\n",
       "      <td>339999</td>\n",
       "      <td>11 a 50</td>\n",
       "      <td>CAMARA NACIONAL DE LA INDUSTRIA DE TRANSFORMACION</td>\n",
       "      <td>NaN</td>\n",
       "      <td>5.949565e+09</td>\n",
       "      <td>NaN</td>\n",
       "      <td>NaN</td>\n",
       "      <td>Estado de México</td>\n",
       "    </tr>\n",
       "    <tr>\n",
       "      <th>1</th>\n",
       "      <td>SANBORNS SUC PLAZA SAN PABLO TEXCOCO</td>\n",
       "      <td>México</td>\n",
       "      <td>Texcoco</td>\n",
       "      <td>Avenida JUÁREZ NTE 413 int -</td>\n",
       "      <td>Colonia CENTRO</td>\n",
       "      <td>56100</td>\n",
       "      <td>5553259900</td>\n",
       "      <td>NaN</td>\n",
       "      <td>RESTAURANTE</td>\n",
       "      <td>722511</td>\n",
       "      <td>0 a 10</td>\n",
       "      <td>CAMARA NACIONAL DE LA INDUSTRIA DE RESTAURANTE...</td>\n",
       "      <td>NaN</td>\n",
       "      <td>5.553260e+09</td>\n",
       "      <td>NaN</td>\n",
       "      <td>NaN</td>\n",
       "      <td>Estado de México</td>\n",
       "    </tr>\n",
       "    <tr>\n",
       "      <th>2</th>\n",
       "      <td>BURGER KING TEXCOCO</td>\n",
       "      <td>México</td>\n",
       "      <td>Texcoco</td>\n",
       "      <td>Avenida JUAREZ SUR 340 int -</td>\n",
       "      <td>Colonia SAN PEDRO</td>\n",
       "      <td>56189</td>\n",
       "      <td>5575832000</td>\n",
       "      <td>NaN</td>\n",
       "      <td>RESTAURANTE</td>\n",
       "      <td>722511</td>\n",
       "      <td>0 a 10</td>\n",
       "      <td>CAMARA NACIONAL DE LA INDUSTRIA DE RESTAURANTE...</td>\n",
       "      <td>NaN</td>\n",
       "      <td>5.575832e+09</td>\n",
       "      <td>NaN</td>\n",
       "      <td>NaN</td>\n",
       "      <td>Estado de México</td>\n",
       "    </tr>\n",
       "    <tr>\n",
       "      <th>3</th>\n",
       "      <td>ITALIANNIS</td>\n",
       "      <td>México</td>\n",
       "      <td>Texcoco</td>\n",
       "      <td>Calle MOLINO DE LAS FLORES S/N int -</td>\n",
       "      <td>Colonia SANTA CRUZ DE ARRIBA</td>\n",
       "      <td>56151</td>\n",
       "      <td>5575832000</td>\n",
       "      <td>fernando.trueba@alsea.com.mx</td>\n",
       "      <td>RESTAURANTE</td>\n",
       "      <td>722511</td>\n",
       "      <td>0 a 10</td>\n",
       "      <td>CAMARA NACIONAL DE LA INDUSTRIA DE RESTAURANTE...</td>\n",
       "      <td>NaN</td>\n",
       "      <td>5.575832e+09</td>\n",
       "      <td>NaN</td>\n",
       "      <td>NaN</td>\n",
       "      <td>Estado de México</td>\n",
       "    </tr>\n",
       "    <tr>\n",
       "      <th>4</th>\n",
       "      <td>BURGER KING PUERTA TEXCOCO</td>\n",
       "      <td>México</td>\n",
       "      <td>Texcoco</td>\n",
       "      <td>Carretera MEXICO-TEXCOCO KM 30.5 int -</td>\n",
       "      <td>Colonia SANTIAGO CUAUTLALPAN</td>\n",
       "      <td>56101</td>\n",
       "      <td>5575832000</td>\n",
       "      <td>NaN</td>\n",
       "      <td>RESTAURANTE</td>\n",
       "      <td>722511</td>\n",
       "      <td>0 a 10</td>\n",
       "      <td>CAMARA NACIONAL DE LA INDUSTRIA DE RESTAURANTE...</td>\n",
       "      <td>NaN</td>\n",
       "      <td>5.575832e+09</td>\n",
       "      <td>NaN</td>\n",
       "      <td>NaN</td>\n",
       "      <td>Estado de México</td>\n",
       "    </tr>\n",
       "  </tbody>\n",
       "</table>\n",
       "</div>"
      ],
      "text/plain": [
       "                           razon_social  estado municipio  \\\n",
       "0                                 KINAM  México   Texcoco   \n",
       "1  SANBORNS SUC PLAZA SAN PABLO TEXCOCO  México   Texcoco   \n",
       "2                   BURGER KING TEXCOCO  México   Texcoco   \n",
       "3                            ITALIANNIS  México   Texcoco   \n",
       "4            BURGER KING PUERTA TEXCOCO  México   Texcoco   \n",
       "\n",
       "                                domicilio                       colonia  \\\n",
       "0           Avenida HIDALGO 703 int 101-1         Colonia SAN SEBASTIAN   \n",
       "1            Avenida JUÁREZ NTE 413 int -                Colonia CENTRO   \n",
       "2            Avenida JUAREZ SUR 340 int -             Colonia SAN PEDRO   \n",
       "3    Calle MOLINO DE LAS FLORES S/N int -  Colonia SANTA CRUZ DE ARRIBA   \n",
       "4  Carretera MEXICO-TEXCOCO KM 30.5 int -  Colonia SANTIAGO CUAUTLALPAN   \n",
       "\n",
       "      cp    telefono                             e_mail  \\\n",
       "0  56130  5949565441  miguel.duran@kinamtrailers.com.mx   \n",
       "1  56100  5553259900                                NaN   \n",
       "2  56189  5575832000                                NaN   \n",
       "3  56151  5575832000       fernando.trueba@alsea.com.mx   \n",
       "4  56101  5575832000                                NaN   \n",
       "\n",
       "                             giro   scian rango_de_empleados  \\\n",
       "0  autotanques de acero al carbon  339999            11 a 50   \n",
       "1                     RESTAURANTE  722511             0 a 10   \n",
       "2                     RESTAURANTE  722511             0 a 10   \n",
       "3                     RESTAURANTE  722511             0 a 10   \n",
       "4                     RESTAURANTE  722511             0 a 10   \n",
       "\n",
       "                                      registrado_por  fn_razon_social  \\\n",
       "0  CAMARA NACIONAL DE LA INDUSTRIA DE TRANSFORMACION              NaN   \n",
       "1  CAMARA NACIONAL DE LA INDUSTRIA DE RESTAURANTE...              NaN   \n",
       "2  CAMARA NACIONAL DE LA INDUSTRIA DE RESTAURANTE...              NaN   \n",
       "3  CAMARA NACIONAL DE LA INDUSTRIA DE RESTAURANTE...              NaN   \n",
       "4  CAMARA NACIONAL DE LA INDUSTRIA DE RESTAURANTE...              NaN   \n",
       "\n",
       "    fn_telefono  fn_e_mail  fn_giro        estado_etq  \n",
       "0  5.949565e+09        NaN      NaN  Estado de México  \n",
       "1  5.553260e+09        NaN      NaN  Estado de México  \n",
       "2  5.575832e+09        NaN      NaN  Estado de México  \n",
       "3  5.575832e+09        NaN      NaN  Estado de México  \n",
       "4  5.575832e+09        NaN      NaN  Estado de México  "
      ]
     },
     "execution_count": 64,
     "metadata": {},
     "output_type": "execute_result"
    }
   ],
   "source": [
    "# Cargar el dataset \n",
    "df_siem = pd.read_csv('../data/raw/datosgob_2024.csv')\n",
    "df_siem.head()"
   ]
  },
  {
   "cell_type": "markdown",
   "id": "0f31ecff",
   "metadata": {},
   "source": [
    "#### **Verificar la cantidad de filas y columnas antes de la limpieza y procesamiento**"
   ]
  },
  {
   "cell_type": "code",
   "execution_count": 65,
   "id": "ccab3cfc",
   "metadata": {},
   "outputs": [
    {
     "name": "stdout",
     "output_type": "stream",
     "text": [
      "Filas     Columnas\n",
      "147851         17\n"
     ]
    }
   ],
   "source": [
    "filas, columnas = df_siem.shape\n",
    "print(f'{\"Filas\":<10}{\"Columnas\"}')\n",
    "print(f'{filas:<10}{columnas:>7}')"
   ]
  },
  {
   "cell_type": "markdown",
   "id": "88adb71a",
   "metadata": {},
   "source": [
    "##### **Eliminar Columnas innecesarios para el análisis**"
   ]
  },
  {
   "cell_type": "code",
   "execution_count": 66,
   "id": "952f9329",
   "metadata": {},
   "outputs": [
    {
     "name": "stdout",
     "output_type": "stream",
     "text": [
      "Columnas antes de eliminar\n",
      "1.-razon_social\n",
      "2.-estado\n",
      "3.-municipio\n",
      "4.-domicilio\n",
      "5.-colonia\n",
      "6.-cp\n",
      "7.-telefono\n",
      "8.-e_mail\n",
      "9.-giro\n",
      "10.-scian\n",
      "11.-rango_de_empleados\n",
      "12.-registrado_por\n",
      "13.-fn_razon_social\n",
      "14.-fn_telefono\n",
      "15.-fn_e_mail\n",
      "16.-fn_giro\n",
      "17.-estado_etq\n",
      "\n",
      "Columnas después de eliminar\n",
      "1.-razon_social\n",
      "2.-estado\n",
      "3.-municipio\n",
      "4.-domicilio\n",
      "5.-colonia\n",
      "6.-giro\n",
      "7.-scian\n",
      "8.-rango_de_empleados\n",
      "9.-registrado_por\n"
     ]
    }
   ],
   "source": [
    "columnas_eliminar = ['cp','telefono', 'e_mail', 'fn_telefono', 'fn_e_mail', 'fn_razon_social', 'fn_giro', 'estado_etq']\n",
    "n = 1\n",
    "\n",
    "print('Columnas antes de eliminar')\n",
    "for nombre_columnas in df_siem.columns:\n",
    "    print(f'{n}.-{nombre_columnas}')\n",
    "    n += 1\n",
    "\n",
    "df_siem.drop(columnas_eliminar, axis=1, inplace=True)\n",
    "\n",
    "print('\\nColumnas después de eliminar')\n",
    "i = 1 \n",
    "for columna_nmombre in df_siem.columns:\n",
    "    print(f'{i}.-{columna_nmombre}')\n",
    "    i += 1\n"
   ]
  },
  {
   "cell_type": "markdown",
   "id": "a10cf53e",
   "metadata": {},
   "source": [
    "***Se eliminaron 8 columnas***"
   ]
  },
  {
   "cell_type": "markdown",
   "id": "156bb4d0",
   "metadata": {},
   "source": [
    "##### **Eliminar valores nulos**"
   ]
  },
  {
   "cell_type": "code",
   "execution_count": 67,
   "id": "f2563832",
   "metadata": {},
   "outputs": [
    {
     "name": "stdout",
     "output_type": "stream",
     "text": [
      "Columnas           Cant. Nulos\n",
      "razon_social           71\n",
      "estado                  0\n",
      "municipio               0\n",
      "domicilio               0\n",
      "colonia                 0\n",
      "giro                  257\n",
      "scian                   0\n",
      "rango_de_empleados      0\n",
      "registrado_por          0\n",
      "dtype: int64\n"
     ]
    }
   ],
   "source": [
    "valores_nulos = df_siem.isnull().sum()\n",
    "print(f'{\"Columnas\":<10}{\"Cant. Nulos\":>20}')\n",
    "print(valores_nulos)"
   ]
  },
  {
   "cell_type": "code",
   "execution_count": 68,
   "id": "fbaa570a",
   "metadata": {},
   "outputs": [
    {
     "name": "stdout",
     "output_type": "stream",
     "text": [
      "Filas antes de eliminar valores nulos\n",
      "Filas: 147851\n",
      "\n",
      "Filas después de eliminar valores nulos\n",
      "Filas: 147523\n"
     ]
    }
   ],
   "source": [
    "print('Filas antes de eliminar valores nulos')\n",
    "print(f'Filas: {filas}')\n",
    "\n",
    "\n",
    "print('\\nFilas después de eliminar valores nulos')\n",
    "df_siem_sin_nulos = df_siem.dropna()\n",
    "filas_n, columnas_n = df_siem_sin_nulos.shape\n",
    "print(f'Filas: {filas_n}')\n"
   ]
  },
  {
   "cell_type": "code",
   "execution_count": 69,
   "id": "740ecf0c",
   "metadata": {},
   "outputs": [
    {
     "name": "stdout",
     "output_type": "stream",
     "text": [
      "Columnas           Cant. Nulos\n",
      "razon_social          0\n",
      "estado                0\n",
      "municipio             0\n",
      "domicilio             0\n",
      "colonia               0\n",
      "giro                  0\n",
      "scian                 0\n",
      "rango_de_empleados    0\n",
      "registrado_por        0\n",
      "dtype: int64\n"
     ]
    }
   ],
   "source": [
    "valores_nulos = df_siem_sin_nulos.isnull().sum()\n",
    "print(f'{\"Columnas\":<10}{\"Cant. Nulos\":>20}')\n",
    "print(valores_nulos)"
   ]
  },
  {
   "cell_type": "markdown",
   "id": "b7b002c4",
   "metadata": {},
   "source": [
    "##### ***Duplicados***"
   ]
  },
  {
   "cell_type": "code",
   "execution_count": 70,
   "id": "19d0ab2e",
   "metadata": {},
   "outputs": [
    {
     "name": "stdout",
     "output_type": "stream",
     "text": [
      "Columas             Cant. Duplicados\n",
      "razon_social                  33695\n",
      "estado                       147491\n",
      "municipio                    146385\n",
      "domicilio                     10718\n",
      "colonia                      117548\n",
      "giro                         115876\n",
      "scian                        146843\n",
      "rango_de_empleados           147519\n",
      "registrado_por               147375\n"
     ]
    }
   ],
   "source": [
    "print(f'{\"Columas\":<20}{\"Cant. Duplicados\"}')\n",
    "for columna_nombre in df_siem_sin_nulos.columns:\n",
    "    valores_duplicados = df_siem_sin_nulos[columna_nombre].duplicated().sum()\n",
    "    print(f'{columna_nombre:<20}{valores_duplicados:>15}')"
   ]
  },
  {
   "cell_type": "code",
   "execution_count": 71,
   "id": "b0a85d7a",
   "metadata": {},
   "outputs": [
    {
     "name": "stdout",
     "output_type": "stream",
     "text": [
      "Numero total de duplicados: 497\n"
     ]
    },
    {
     "data": {
      "text/html": [
       "<div>\n",
       "<style scoped>\n",
       "    .dataframe tbody tr th:only-of-type {\n",
       "        vertical-align: middle;\n",
       "    }\n",
       "\n",
       "    .dataframe tbody tr th {\n",
       "        vertical-align: top;\n",
       "    }\n",
       "\n",
       "    .dataframe thead th {\n",
       "        text-align: right;\n",
       "    }\n",
       "</style>\n",
       "<table border=\"1\" class=\"dataframe\">\n",
       "  <thead>\n",
       "    <tr style=\"text-align: right;\">\n",
       "      <th></th>\n",
       "      <th>razon_social</th>\n",
       "      <th>estado</th>\n",
       "      <th>municipio</th>\n",
       "      <th>domicilio</th>\n",
       "      <th>colonia</th>\n",
       "      <th>giro</th>\n",
       "      <th>scian</th>\n",
       "      <th>rango_de_empleados</th>\n",
       "      <th>registrado_por</th>\n",
       "    </tr>\n",
       "  </thead>\n",
       "  <tbody>\n",
       "    <tr>\n",
       "      <th>1180</th>\n",
       "      <td>NUEVA WALMART DE MEXICO S DE RL DE CV</td>\n",
       "      <td>México</td>\n",
       "      <td>Tlalnepantla de Baz</td>\n",
       "      <td>Avenida HIDALGO S/N int NA</td>\n",
       "      <td>Colonia INDUSTRIAL TLAXCOLPAN</td>\n",
       "      <td>TIENDA DE CONVENIENCIA</td>\n",
       "      <td>462111</td>\n",
       "      <td>11 a 50</td>\n",
       "      <td>CANACO SERVYTUR TLALNEPANTLA</td>\n",
       "    </tr>\n",
       "    <tr>\n",
       "      <th>4450</th>\n",
       "      <td>TESILLO</td>\n",
       "      <td>México</td>\n",
       "      <td>Zumpango</td>\n",
       "      <td>Calle MINA 56 int SN</td>\n",
       "      <td>Barrio SAN JUAN</td>\n",
       "      <td>PAPELERIA</td>\n",
       "      <td>465311</td>\n",
       "      <td>0 a 10</td>\n",
       "      <td>CANACO SERVYTUR CUAUTITLAN ZUMPANGO</td>\n",
       "    </tr>\n",
       "    <tr>\n",
       "      <th>4710</th>\n",
       "      <td>hules angel</td>\n",
       "      <td>México</td>\n",
       "      <td>Cuautitlán Izcalli</td>\n",
       "      <td>Privada rio concepcion sn int sn</td>\n",
       "      <td>Colonia colinas del lago</td>\n",
       "      <td>hule automotriz e industrial</td>\n",
       "      <td>468211</td>\n",
       "      <td>0 a 10</td>\n",
       "      <td>CANACO SERVYTUR CUAUTITLAN ZUMPANGO</td>\n",
       "    </tr>\n",
       "    <tr>\n",
       "      <th>5260</th>\n",
       "      <td>JIMENEZ</td>\n",
       "      <td>Michoacán de Ocampo</td>\n",
       "      <td>Contepec</td>\n",
       "      <td>Calle N/A N/A int NA</td>\n",
       "      <td>Colonia N/A</td>\n",
       "      <td>COMERCIO</td>\n",
       "      <td>461110</td>\n",
       "      <td>0 a 10</td>\n",
       "      <td>CANACO SERVYTUR MORELIA</td>\n",
       "    </tr>\n",
       "    <tr>\n",
       "      <th>5673</th>\n",
       "      <td>AGUILAR</td>\n",
       "      <td>Michoacán de Ocampo</td>\n",
       "      <td>Maravatío</td>\n",
       "      <td>Calle San Francisco N/A int N/A</td>\n",
       "      <td>Colonia N/A</td>\n",
       "      <td>ABARROTES</td>\n",
       "      <td>431110</td>\n",
       "      <td>0 a 10</td>\n",
       "      <td>CANACO SERVYTUR MORELIA</td>\n",
       "    </tr>\n",
       "  </tbody>\n",
       "</table>\n",
       "</div>"
      ],
      "text/plain": [
       "                               razon_social               estado  \\\n",
       "1180  NUEVA WALMART DE MEXICO S DE RL DE CV               México   \n",
       "4450                                TESILLO               México   \n",
       "4710                            hules angel               México   \n",
       "5260                                JIMENEZ  Michoacán de Ocampo   \n",
       "5673                                AGUILAR  Michoacán de Ocampo   \n",
       "\n",
       "                municipio                         domicilio  \\\n",
       "1180  Tlalnepantla de Baz        Avenida HIDALGO S/N int NA   \n",
       "4450             Zumpango              Calle MINA 56 int SN   \n",
       "4710   Cuautitlán Izcalli  Privada rio concepcion sn int sn   \n",
       "5260             Contepec              Calle N/A N/A int NA   \n",
       "5673            Maravatío   Calle San Francisco N/A int N/A   \n",
       "\n",
       "                            colonia                          giro   scian  \\\n",
       "1180  Colonia INDUSTRIAL TLAXCOLPAN        TIENDA DE CONVENIENCIA  462111   \n",
       "4450                Barrio SAN JUAN                     PAPELERIA  465311   \n",
       "4710       Colonia colinas del lago  hule automotriz e industrial  468211   \n",
       "5260                    Colonia N/A                      COMERCIO  461110   \n",
       "5673                    Colonia N/A                     ABARROTES  431110   \n",
       "\n",
       "     rango_de_empleados                       registrado_por  \n",
       "1180            11 a 50         CANACO SERVYTUR TLALNEPANTLA  \n",
       "4450             0 a 10  CANACO SERVYTUR CUAUTITLAN ZUMPANGO  \n",
       "4710             0 a 10  CANACO SERVYTUR CUAUTITLAN ZUMPANGO  \n",
       "5260             0 a 10              CANACO SERVYTUR MORELIA  \n",
       "5673             0 a 10              CANACO SERVYTUR MORELIA  "
      ]
     },
     "execution_count": 71,
     "metadata": {},
     "output_type": "execute_result"
    }
   ],
   "source": [
    "filas_duplicadas = df_siem_sin_nulos.duplicated().sum()\n",
    "filas_duplicadas_mask = df_siem_sin_nulos.duplicated()\n",
    "\n",
    "\n",
    "print(f'Numero total de duplicados: {filas_duplicadas}')\n",
    "\n",
    "df_siem_sin_nulos_duplicados = df_siem_sin_nulos[filas_duplicadas_mask]\n",
    "df_siem_sin_nulos_duplicados.head(5)"
   ]
  },
  {
   "cell_type": "code",
   "execution_count": 78,
   "id": "52e2072c",
   "metadata": {},
   "outputs": [
    {
     "name": "stdout",
     "output_type": "stream",
     "text": [
      "Filas antes de eliminar duplicados\n",
      "Filas: 147523\n",
      "\n",
      "Filas después de eliminar duplicados\n",
      "Filas: 147026\n",
      "\n",
      "Filas duplicadas: 0\n"
     ]
    }
   ],
   "source": [
    "print('Filas antes de eliminar duplicados')\n",
    "print(f'Filas: {filas_n}')\n",
    "\n",
    "\n",
    "print('\\nFilas después de eliminar duplicados')\n",
    "df_siem_sin_nulos_sin_duplicados = df_siem_sin_nulos.drop_duplicates()\n",
    "filas_n_d,columnas_n_d = df_siem_sin_nulos_sin_duplicados.shape\n",
    "print(f'Filas: {filas_n_d}')\n",
    "\n",
    "# Verificar la filas duplicadas\n",
    "filas_dupli = df_siem_sin_nulos_sin_duplicados.duplicated().sum()\n",
    "print(f'\\nFilas duplicadas: {filas_dupli}')"
   ]
  }
 ],
 "metadata": {
  "kernelspec": {
   "display_name": "venv",
   "language": "python",
   "name": "python3"
  },
  "language_info": {
   "codemirror_mode": {
    "name": "ipython",
    "version": 3
   },
   "file_extension": ".py",
   "mimetype": "text/x-python",
   "name": "python",
   "nbconvert_exporter": "python",
   "pygments_lexer": "ipython3",
   "version": "3.12.1"
  }
 },
 "nbformat": 4,
 "nbformat_minor": 5
}
