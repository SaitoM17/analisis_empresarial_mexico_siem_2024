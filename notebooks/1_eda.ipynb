{
 "cells": [
  {
   "cell_type": "markdown",
   "id": "562ab6f0",
   "metadata": {},
   "source": [
    "#### **Análisis Exploratorio de Datos (preliminar)**"
   ]
  },
  {
   "cell_type": "code",
   "execution_count": 1,
   "id": "84c63afe",
   "metadata": {},
   "outputs": [],
   "source": [
    "# Cargar las librerias necesarias\n",
    "import pandas as pd\n",
    "import numpy as np\n",
    "import seaborn as sns\n",
    "import matplotlib.pyplot as plt"
   ]
  },
  {
   "cell_type": "code",
   "execution_count": 2,
   "id": "9fc004b9",
   "metadata": {},
   "outputs": [
    {
     "data": {
      "text/html": [
       "<div>\n",
       "<style scoped>\n",
       "    .dataframe tbody tr th:only-of-type {\n",
       "        vertical-align: middle;\n",
       "    }\n",
       "\n",
       "    .dataframe tbody tr th {\n",
       "        vertical-align: top;\n",
       "    }\n",
       "\n",
       "    .dataframe thead th {\n",
       "        text-align: right;\n",
       "    }\n",
       "</style>\n",
       "<table border=\"1\" class=\"dataframe\">\n",
       "  <thead>\n",
       "    <tr style=\"text-align: right;\">\n",
       "      <th></th>\n",
       "      <th>razon_social</th>\n",
       "      <th>estado</th>\n",
       "      <th>municipio</th>\n",
       "      <th>domicilio</th>\n",
       "      <th>colonia</th>\n",
       "      <th>cp</th>\n",
       "      <th>telefono</th>\n",
       "      <th>e_mail</th>\n",
       "      <th>giro</th>\n",
       "      <th>scian</th>\n",
       "      <th>rango_de_empleados</th>\n",
       "      <th>registrado_por</th>\n",
       "      <th>fn_razon_social</th>\n",
       "      <th>fn_telefono</th>\n",
       "      <th>fn_e_mail</th>\n",
       "      <th>fn_giro</th>\n",
       "      <th>estado_etq</th>\n",
       "    </tr>\n",
       "  </thead>\n",
       "  <tbody>\n",
       "    <tr>\n",
       "      <th>0</th>\n",
       "      <td>KINAM</td>\n",
       "      <td>México</td>\n",
       "      <td>Texcoco</td>\n",
       "      <td>Avenida HIDALGO 703 int 101-1</td>\n",
       "      <td>Colonia SAN SEBASTIAN</td>\n",
       "      <td>56130</td>\n",
       "      <td>5949565441</td>\n",
       "      <td>miguel.duran@kinamtrailers.com.mx</td>\n",
       "      <td>autotanques de acero al carbon</td>\n",
       "      <td>339999</td>\n",
       "      <td>11 a 50</td>\n",
       "      <td>CAMARA NACIONAL DE LA INDUSTRIA DE TRANSFORMACION</td>\n",
       "      <td>NaN</td>\n",
       "      <td>5.949565e+09</td>\n",
       "      <td>NaN</td>\n",
       "      <td>NaN</td>\n",
       "      <td>Estado de México</td>\n",
       "    </tr>\n",
       "    <tr>\n",
       "      <th>1</th>\n",
       "      <td>SANBORNS SUC PLAZA SAN PABLO TEXCOCO</td>\n",
       "      <td>México</td>\n",
       "      <td>Texcoco</td>\n",
       "      <td>Avenida JUÁREZ NTE 413 int -</td>\n",
       "      <td>Colonia CENTRO</td>\n",
       "      <td>56100</td>\n",
       "      <td>5553259900</td>\n",
       "      <td>NaN</td>\n",
       "      <td>RESTAURANTE</td>\n",
       "      <td>722511</td>\n",
       "      <td>0 a 10</td>\n",
       "      <td>CAMARA NACIONAL DE LA INDUSTRIA DE RESTAURANTE...</td>\n",
       "      <td>NaN</td>\n",
       "      <td>5.553260e+09</td>\n",
       "      <td>NaN</td>\n",
       "      <td>NaN</td>\n",
       "      <td>Estado de México</td>\n",
       "    </tr>\n",
       "    <tr>\n",
       "      <th>2</th>\n",
       "      <td>BURGER KING TEXCOCO</td>\n",
       "      <td>México</td>\n",
       "      <td>Texcoco</td>\n",
       "      <td>Avenida JUAREZ SUR 340 int -</td>\n",
       "      <td>Colonia SAN PEDRO</td>\n",
       "      <td>56189</td>\n",
       "      <td>5575832000</td>\n",
       "      <td>NaN</td>\n",
       "      <td>RESTAURANTE</td>\n",
       "      <td>722511</td>\n",
       "      <td>0 a 10</td>\n",
       "      <td>CAMARA NACIONAL DE LA INDUSTRIA DE RESTAURANTE...</td>\n",
       "      <td>NaN</td>\n",
       "      <td>5.575832e+09</td>\n",
       "      <td>NaN</td>\n",
       "      <td>NaN</td>\n",
       "      <td>Estado de México</td>\n",
       "    </tr>\n",
       "    <tr>\n",
       "      <th>3</th>\n",
       "      <td>ITALIANNIS</td>\n",
       "      <td>México</td>\n",
       "      <td>Texcoco</td>\n",
       "      <td>Calle MOLINO DE LAS FLORES S/N int -</td>\n",
       "      <td>Colonia SANTA CRUZ DE ARRIBA</td>\n",
       "      <td>56151</td>\n",
       "      <td>5575832000</td>\n",
       "      <td>fernando.trueba@alsea.com.mx</td>\n",
       "      <td>RESTAURANTE</td>\n",
       "      <td>722511</td>\n",
       "      <td>0 a 10</td>\n",
       "      <td>CAMARA NACIONAL DE LA INDUSTRIA DE RESTAURANTE...</td>\n",
       "      <td>NaN</td>\n",
       "      <td>5.575832e+09</td>\n",
       "      <td>NaN</td>\n",
       "      <td>NaN</td>\n",
       "      <td>Estado de México</td>\n",
       "    </tr>\n",
       "    <tr>\n",
       "      <th>4</th>\n",
       "      <td>BURGER KING PUERTA TEXCOCO</td>\n",
       "      <td>México</td>\n",
       "      <td>Texcoco</td>\n",
       "      <td>Carretera MEXICO-TEXCOCO KM 30.5 int -</td>\n",
       "      <td>Colonia SANTIAGO CUAUTLALPAN</td>\n",
       "      <td>56101</td>\n",
       "      <td>5575832000</td>\n",
       "      <td>NaN</td>\n",
       "      <td>RESTAURANTE</td>\n",
       "      <td>722511</td>\n",
       "      <td>0 a 10</td>\n",
       "      <td>CAMARA NACIONAL DE LA INDUSTRIA DE RESTAURANTE...</td>\n",
       "      <td>NaN</td>\n",
       "      <td>5.575832e+09</td>\n",
       "      <td>NaN</td>\n",
       "      <td>NaN</td>\n",
       "      <td>Estado de México</td>\n",
       "    </tr>\n",
       "  </tbody>\n",
       "</table>\n",
       "</div>"
      ],
      "text/plain": [
       "                           razon_social  estado municipio  \\\n",
       "0                                 KINAM  México   Texcoco   \n",
       "1  SANBORNS SUC PLAZA SAN PABLO TEXCOCO  México   Texcoco   \n",
       "2                   BURGER KING TEXCOCO  México   Texcoco   \n",
       "3                            ITALIANNIS  México   Texcoco   \n",
       "4            BURGER KING PUERTA TEXCOCO  México   Texcoco   \n",
       "\n",
       "                                domicilio                       colonia  \\\n",
       "0           Avenida HIDALGO 703 int 101-1         Colonia SAN SEBASTIAN   \n",
       "1            Avenida JUÁREZ NTE 413 int -                Colonia CENTRO   \n",
       "2            Avenida JUAREZ SUR 340 int -             Colonia SAN PEDRO   \n",
       "3    Calle MOLINO DE LAS FLORES S/N int -  Colonia SANTA CRUZ DE ARRIBA   \n",
       "4  Carretera MEXICO-TEXCOCO KM 30.5 int -  Colonia SANTIAGO CUAUTLALPAN   \n",
       "\n",
       "      cp    telefono                             e_mail  \\\n",
       "0  56130  5949565441  miguel.duran@kinamtrailers.com.mx   \n",
       "1  56100  5553259900                                NaN   \n",
       "2  56189  5575832000                                NaN   \n",
       "3  56151  5575832000       fernando.trueba@alsea.com.mx   \n",
       "4  56101  5575832000                                NaN   \n",
       "\n",
       "                             giro   scian rango_de_empleados  \\\n",
       "0  autotanques de acero al carbon  339999            11 a 50   \n",
       "1                     RESTAURANTE  722511             0 a 10   \n",
       "2                     RESTAURANTE  722511             0 a 10   \n",
       "3                     RESTAURANTE  722511             0 a 10   \n",
       "4                     RESTAURANTE  722511             0 a 10   \n",
       "\n",
       "                                      registrado_por  fn_razon_social  \\\n",
       "0  CAMARA NACIONAL DE LA INDUSTRIA DE TRANSFORMACION              NaN   \n",
       "1  CAMARA NACIONAL DE LA INDUSTRIA DE RESTAURANTE...              NaN   \n",
       "2  CAMARA NACIONAL DE LA INDUSTRIA DE RESTAURANTE...              NaN   \n",
       "3  CAMARA NACIONAL DE LA INDUSTRIA DE RESTAURANTE...              NaN   \n",
       "4  CAMARA NACIONAL DE LA INDUSTRIA DE RESTAURANTE...              NaN   \n",
       "\n",
       "    fn_telefono  fn_e_mail  fn_giro        estado_etq  \n",
       "0  5.949565e+09        NaN      NaN  Estado de México  \n",
       "1  5.553260e+09        NaN      NaN  Estado de México  \n",
       "2  5.575832e+09        NaN      NaN  Estado de México  \n",
       "3  5.575832e+09        NaN      NaN  Estado de México  \n",
       "4  5.575832e+09        NaN      NaN  Estado de México  "
      ]
     },
     "execution_count": 2,
     "metadata": {},
     "output_type": "execute_result"
    }
   ],
   "source": [
    "# Cargar el dataset \n",
    "df_siem = pd.read_csv('../data/raw/datosgob_2024.csv')\n",
    "df_siem.head(5)"
   ]
  },
  {
   "cell_type": "code",
   "execution_count": 3,
   "id": "8407d954",
   "metadata": {},
   "outputs": [
    {
     "data": {
      "text/html": [
       "<div>\n",
       "<style scoped>\n",
       "    .dataframe tbody tr th:only-of-type {\n",
       "        vertical-align: middle;\n",
       "    }\n",
       "\n",
       "    .dataframe tbody tr th {\n",
       "        vertical-align: top;\n",
       "    }\n",
       "\n",
       "    .dataframe thead th {\n",
       "        text-align: right;\n",
       "    }\n",
       "</style>\n",
       "<table border=\"1\" class=\"dataframe\">\n",
       "  <thead>\n",
       "    <tr style=\"text-align: right;\">\n",
       "      <th></th>\n",
       "      <th>razon_social</th>\n",
       "      <th>estado</th>\n",
       "      <th>municipio</th>\n",
       "      <th>domicilio</th>\n",
       "      <th>colonia</th>\n",
       "      <th>cp</th>\n",
       "      <th>telefono</th>\n",
       "      <th>e_mail</th>\n",
       "      <th>giro</th>\n",
       "      <th>scian</th>\n",
       "      <th>rango_de_empleados</th>\n",
       "      <th>registrado_por</th>\n",
       "      <th>fn_razon_social</th>\n",
       "      <th>fn_telefono</th>\n",
       "      <th>fn_e_mail</th>\n",
       "      <th>fn_giro</th>\n",
       "      <th>estado_etq</th>\n",
       "    </tr>\n",
       "  </thead>\n",
       "  <tbody>\n",
       "    <tr>\n",
       "      <th>147846</th>\n",
       "      <td>SCPP PESCADORES UNIDOS DE SAN FELIPE SC DE RL</td>\n",
       "      <td>Yucatán</td>\n",
       "      <td>San Felipe</td>\n",
       "      <td>Calle 9 54 int NA</td>\n",
       "      <td>Colonia PUERTO</td>\n",
       "      <td>97616</td>\n",
       "      <td>NaN</td>\n",
       "      <td>NaN</td>\n",
       "      <td>RESTAURANTE</td>\n",
       "      <td>461123</td>\n",
       "      <td>0 a 10</td>\n",
       "      <td>CANACO SERVYTUR MERIDA</td>\n",
       "      <td>NaN</td>\n",
       "      <td>NaN</td>\n",
       "      <td>NaN</td>\n",
       "      <td>NaN</td>\n",
       "      <td>Yucatán</td>\n",
       "    </tr>\n",
       "    <tr>\n",
       "      <th>147847</th>\n",
       "      <td>MUEBLERIAS DIAZ Y SOLIS (SUC.TECOH)</td>\n",
       "      <td>Yucatán</td>\n",
       "      <td>Tecoh</td>\n",
       "      <td>Calle 30 95-B int N/A</td>\n",
       "      <td>Colonia CENTRO</td>\n",
       "      <td>97380</td>\n",
       "      <td>NaN</td>\n",
       "      <td>MDSGASTOSCEO@HOTMAIL.COM</td>\n",
       "      <td>COMERCIALIZACION DE ELECTRODOMESTICOS</td>\n",
       "      <td>466112</td>\n",
       "      <td>0 a 10</td>\n",
       "      <td>CANACO SERVYTUR MERIDA</td>\n",
       "      <td>NaN</td>\n",
       "      <td>NaN</td>\n",
       "      <td>NaN</td>\n",
       "      <td>NaN</td>\n",
       "      <td>Yucatán</td>\n",
       "    </tr>\n",
       "    <tr>\n",
       "      <th>147848</th>\n",
       "      <td>DUNOSUSA YUCATAN TECOH 3</td>\n",
       "      <td>Yucatán</td>\n",
       "      <td>Tecoh</td>\n",
       "      <td>Calle 31 96 int N/A</td>\n",
       "      <td>Colonia TECOH</td>\n",
       "      <td>97820</td>\n",
       "      <td>9999406060</td>\n",
       "      <td>COORDINACION.TRAMITES@DUNOSUSA.COM.MX</td>\n",
       "      <td>COMERCIALIZACION DE ABARROTES</td>\n",
       "      <td>462112</td>\n",
       "      <td>0 a 10</td>\n",
       "      <td>CANACO SERVYTUR MERIDA</td>\n",
       "      <td>NaN</td>\n",
       "      <td>9.999406e+09</td>\n",
       "      <td>NaN</td>\n",
       "      <td>NaN</td>\n",
       "      <td>Yucatán</td>\n",
       "    </tr>\n",
       "    <tr>\n",
       "      <th>147849</th>\n",
       "      <td>DUNOSUSA TECOH</td>\n",
       "      <td>Yucatán</td>\n",
       "      <td>Tecoh</td>\n",
       "      <td>Calle 31 111-D int N/A</td>\n",
       "      <td>Pueblo TECOH</td>\n",
       "      <td>97820</td>\n",
       "      <td>9999406060</td>\n",
       "      <td>COORDINACION.TRAMITES@DUNOSUSA.COM.MX</td>\n",
       "      <td>COMERCIALIZACION DE ABARROTES</td>\n",
       "      <td>461110</td>\n",
       "      <td>0 a 10</td>\n",
       "      <td>CANACO SERVYTUR MERIDA</td>\n",
       "      <td>NaN</td>\n",
       "      <td>9.999406e+09</td>\n",
       "      <td>NaN</td>\n",
       "      <td>NaN</td>\n",
       "      <td>Yucatán</td>\n",
       "    </tr>\n",
       "    <tr>\n",
       "      <th>147850</th>\n",
       "      <td>SUPER WILLIS (TECOH)</td>\n",
       "      <td>Yucatán</td>\n",
       "      <td>Tecoh</td>\n",
       "      <td>Calle 30 103 int NA</td>\n",
       "      <td>Colonia CENTRO</td>\n",
       "      <td>97403</td>\n",
       "      <td>NaN</td>\n",
       "      <td>NaN</td>\n",
       "      <td>COMERCIALIZACION DE ABARROTES</td>\n",
       "      <td>431110</td>\n",
       "      <td>0 a 10</td>\n",
       "      <td>CANACO SERVYTUR MERIDA</td>\n",
       "      <td>NaN</td>\n",
       "      <td>NaN</td>\n",
       "      <td>NaN</td>\n",
       "      <td>NaN</td>\n",
       "      <td>Yucatán</td>\n",
       "    </tr>\n",
       "  </tbody>\n",
       "</table>\n",
       "</div>"
      ],
      "text/plain": [
       "                                         razon_social   estado   municipio  \\\n",
       "147846  SCPP PESCADORES UNIDOS DE SAN FELIPE SC DE RL  Yucatán  San Felipe   \n",
       "147847            MUEBLERIAS DIAZ Y SOLIS (SUC.TECOH)  Yucatán       Tecoh   \n",
       "147848                       DUNOSUSA YUCATAN TECOH 3  Yucatán       Tecoh   \n",
       "147849                                 DUNOSUSA TECOH  Yucatán       Tecoh   \n",
       "147850                           SUPER WILLIS (TECOH)  Yucatán       Tecoh   \n",
       "\n",
       "                     domicilio         colonia     cp    telefono  \\\n",
       "147846       Calle 9 54 int NA  Colonia PUERTO  97616         NaN   \n",
       "147847   Calle 30 95-B int N/A  Colonia CENTRO  97380         NaN   \n",
       "147848     Calle 31 96 int N/A   Colonia TECOH  97820  9999406060   \n",
       "147849  Calle 31 111-D int N/A    Pueblo TECOH  97820  9999406060   \n",
       "147850     Calle 30 103 int NA  Colonia CENTRO  97403         NaN   \n",
       "\n",
       "                                       e_mail  \\\n",
       "147846                                    NaN   \n",
       "147847               MDSGASTOSCEO@HOTMAIL.COM   \n",
       "147848  COORDINACION.TRAMITES@DUNOSUSA.COM.MX   \n",
       "147849  COORDINACION.TRAMITES@DUNOSUSA.COM.MX   \n",
       "147850                                    NaN   \n",
       "\n",
       "                                         giro   scian rango_de_empleados  \\\n",
       "147846                            RESTAURANTE  461123             0 a 10   \n",
       "147847  COMERCIALIZACION DE ELECTRODOMESTICOS  466112             0 a 10   \n",
       "147848          COMERCIALIZACION DE ABARROTES  462112             0 a 10   \n",
       "147849          COMERCIALIZACION DE ABARROTES  461110             0 a 10   \n",
       "147850          COMERCIALIZACION DE ABARROTES  431110             0 a 10   \n",
       "\n",
       "                registrado_por  fn_razon_social   fn_telefono  fn_e_mail  \\\n",
       "147846  CANACO SERVYTUR MERIDA              NaN           NaN        NaN   \n",
       "147847  CANACO SERVYTUR MERIDA              NaN           NaN        NaN   \n",
       "147848  CANACO SERVYTUR MERIDA              NaN  9.999406e+09        NaN   \n",
       "147849  CANACO SERVYTUR MERIDA              NaN  9.999406e+09        NaN   \n",
       "147850  CANACO SERVYTUR MERIDA              NaN           NaN        NaN   \n",
       "\n",
       "        fn_giro estado_etq  \n",
       "147846      NaN    Yucatán  \n",
       "147847      NaN    Yucatán  \n",
       "147848      NaN    Yucatán  \n",
       "147849      NaN    Yucatán  \n",
       "147850      NaN    Yucatán  "
      ]
     },
     "execution_count": 3,
     "metadata": {},
     "output_type": "execute_result"
    }
   ],
   "source": [
    "df_siem.tail(5)"
   ]
  },
  {
   "cell_type": "markdown",
   "id": "e9ad03d6",
   "metadata": {},
   "source": [
    "Como primera observación se detectan varias filas con valores nulos (NaN)"
   ]
  },
  {
   "cell_type": "markdown",
   "id": "7d4c50a6",
   "metadata": {},
   "source": [
    "##### Identificar el número de filas y columnas"
   ]
  },
  {
   "cell_type": "code",
   "execution_count": 4,
   "id": "a01cb553",
   "metadata": {},
   "outputs": [
    {
     "name": "stdout",
     "output_type": "stream",
     "text": [
      "Num Filas: 147851\n",
      "Num Columnas: 17\n"
     ]
    }
   ],
   "source": [
    "filas, columnas = df_siem.shape\n",
    "print(f'Num Filas: {filas}\\nNum Columnas: {columnas}')"
   ]
  },
  {
   "cell_type": "markdown",
   "id": "e88a1674",
   "metadata": {},
   "source": [
    "##### Identificar los tipos de datos"
   ]
  },
  {
   "cell_type": "code",
   "execution_count": 5,
   "id": "5768fb3b",
   "metadata": {},
   "outputs": [
    {
     "name": "stdout",
     "output_type": "stream",
     "text": [
      "<class 'pandas.core.frame.DataFrame'>\n",
      "RangeIndex: 147851 entries, 0 to 147850\n",
      "Data columns (total 17 columns):\n",
      " #   Column              Non-Null Count   Dtype  \n",
      "---  ------              --------------   -----  \n",
      " 0   razon_social        147780 non-null  object \n",
      " 1   estado              147851 non-null  object \n",
      " 2   municipio           147851 non-null  object \n",
      " 3   domicilio           147851 non-null  object \n",
      " 4   colonia             147851 non-null  object \n",
      " 5   cp                  147851 non-null  int64  \n",
      " 6   telefono            113520 non-null  object \n",
      " 7   e_mail              88671 non-null   object \n",
      " 8   giro                147594 non-null  object \n",
      " 9   scian               147851 non-null  int64  \n",
      " 10  rango_de_empleados  147851 non-null  object \n",
      " 11  registrado_por      147851 non-null  object \n",
      " 12  fn_razon_social     2 non-null       float64\n",
      " 13  fn_telefono         113498 non-null  float64\n",
      " 14  fn_e_mail           19 non-null      float64\n",
      " 15  fn_giro             157 non-null     float64\n",
      " 16  estado_etq          147851 non-null  object \n",
      "dtypes: float64(4), int64(2), object(11)\n",
      "memory usage: 19.2+ MB\n"
     ]
    }
   ],
   "source": [
    "df_siem.info()"
   ]
  },
  {
   "cell_type": "markdown",
   "id": "a3dc3e19",
   "metadata": {},
   "source": [
    "***telefono, e_mail, fn_razon_social, fn_telefono, fn_e_mail, fn_giro, estado_etq*** son columnas irrelevantes para el análisis por lo que se pueden eliminar."
   ]
  },
  {
   "cell_type": "markdown",
   "id": "5513fe47",
   "metadata": {},
   "source": [
    "##### Identificar valores nulos"
   ]
  },
  {
   "cell_type": "code",
   "execution_count": 6,
   "id": "99e8c39b",
   "metadata": {},
   "outputs": [
    {
     "name": "stdout",
     "output_type": "stream",
     "text": [
      "Valores nulos por columnas\n",
      "razon_social              71\n",
      "estado                     0\n",
      "municipio                  0\n",
      "domicilio                  0\n",
      "colonia                    0\n",
      "cp                         0\n",
      "telefono               34331\n",
      "e_mail                 59180\n",
      "giro                     257\n",
      "scian                      0\n",
      "rango_de_empleados         0\n",
      "registrado_por             0\n",
      "fn_razon_social       147849\n",
      "fn_telefono            34353\n",
      "fn_e_mail             147832\n",
      "fn_giro               147694\n",
      "estado_etq                 0\n",
      "dtype: int64\n"
     ]
    }
   ],
   "source": [
    "print('Valores nulos por columnas')\n",
    "valores_nulos = df_siem.isnull().sum()\n",
    "print(valores_nulos)"
   ]
  },
  {
   "cell_type": "markdown",
   "id": "1466d43a",
   "metadata": {},
   "source": [
    "##### Identificar valores duplicados"
   ]
  },
  {
   "cell_type": "code",
   "execution_count": 7,
   "id": "d55e59de",
   "metadata": {},
   "outputs": [
    {
     "name": "stdout",
     "output_type": "stream",
     "text": [
      "Valores duplicados en la columna razon_social        33812\n",
      "------------------------------------------------------------\n",
      "Valores duplicados en la columna estado              147819\n",
      "------------------------------------------------------------\n",
      "Valores duplicados en la columna municipio           146712\n",
      "------------------------------------------------------------\n",
      "Valores duplicados en la columna domicilio           10739\n",
      "------------------------------------------------------------\n",
      "Valores duplicados en la columna colonia             117825\n",
      "------------------------------------------------------------\n",
      "Valores duplicados en la columna cp                  136820\n",
      "------------------------------------------------------------\n",
      "Valores duplicados en la columna telefono            71874\n",
      "------------------------------------------------------------\n",
      "Valores duplicados en la columna e_mail              89647\n",
      "------------------------------------------------------------\n",
      "Valores duplicados en la columna giro                116164\n",
      "------------------------------------------------------------\n",
      "Valores duplicados en la columna scian               147171\n",
      "------------------------------------------------------------\n",
      "Valores duplicados en la columna rango_de_empleados  147847\n",
      "------------------------------------------------------------\n",
      "Valores duplicados en la columna registrado_por      147703\n",
      "------------------------------------------------------------\n",
      "Valores duplicados en la columna fn_razon_social     147848\n",
      "------------------------------------------------------------\n",
      "Valores duplicados en la columna fn_telefono         71901\n",
      "------------------------------------------------------------\n",
      "Valores duplicados en la columna fn_e_mail           147849\n",
      "------------------------------------------------------------\n",
      "Valores duplicados en la columna fn_giro             147806\n",
      "------------------------------------------------------------\n",
      "Valores duplicados en la columna estado_etq          147819\n",
      "------------------------------------------------------------\n"
     ]
    }
   ],
   "source": [
    "for nombre_columna in df_siem.columns:\n",
    "    valores_duplicados = df_siem[nombre_columna].duplicated().sum()\n",
    "    print(f'Valores duplicados en la columna {nombre_columna:<20}{valores_duplicados}')\n",
    "    print('-' * 60)"
   ]
  },
  {
   "cell_type": "markdown",
   "id": "54d758eb",
   "metadata": {},
   "source": [
    "Se identificaron varias columnas con valores duplicados, se realizara un análisis más profundo para comprender mejor estos datos duplicados."
   ]
  },
  {
   "cell_type": "markdown",
   "id": "c1e9c278",
   "metadata": {},
   "source": [
    "**Variables Categóricas**\n",
    "* razon_social\n",
    "* estado\n",
    "* municipio\n",
    "* domicilio\n",
    "* colonia\n",
    "* telefono\n",
    "* e_mail\n",
    "* giro\n",
    "* rango_de_empleados\n",
    "* registrado_por\n",
    "* estado_etq"
   ]
  },
  {
   "cell_type": "markdown",
   "id": "a3d14102",
   "metadata": {},
   "source": [
    "-------------------\n",
    "* cp\n",
    "* scian\n",
    "\n",
    "Se pueden considerar variables numéricas pero a menudo se tratan como variables categorícas.\n",
    "\n",
    "-------------------"
   ]
  },
  {
   "cell_type": "markdown",
   "id": "139a9114",
   "metadata": {},
   "source": [
    "**Variables Nuiméricas**\n",
    "* fn_razon_social\n",
    "* fn_telefono\n",
    "* fn_e_mail\n",
    "* fn_giro"
   ]
  },
  {
   "cell_type": "markdown",
   "id": "75f427cd",
   "metadata": {},
   "source": [
    "__________________________\n",
    "\n",
    "Las columnas siguientes seran eliminadas ya que no son relevantes para este análisis:\n",
    "* telefono\n",
    "* e_mail\n",
    "* fn_telefono\n",
    "* fn_e_mail\n",
    "* fn_razon_social\n",
    "* fn_giro\n",
    "* estado_etq (Posiblemente se puede eliminar)"
   ]
  },
  {
   "cell_type": "markdown",
   "id": "f1f45085",
   "metadata": {},
   "source": [
    "#### **Análisis de Variables Categóricas**\n",
    "Análisis de frecuencioa para variables categóricas para identificar las categorías más comunes y su posible impacto."
   ]
  },
  {
   "cell_type": "markdown",
   "id": "6a90fea7",
   "metadata": {},
   "source": [
    "1. razon_social\t\n",
    "2. estado\t\n",
    "3. municipio\t\n",
    "4. domicilio\t\n",
    "5. colonia\t\n",
    "6. cp\t\n",
    "7. giro\t\n",
    "8. scian\t\n",
    "9. rango_de_empleados\n",
    "10. registrado_por\t"
   ]
  },
  {
   "cell_type": "code",
   "execution_count": 8,
   "id": "bff9823d",
   "metadata": {},
   "outputs": [
    {
     "name": "stdout",
     "output_type": "stream",
     "text": [
      "\n",
      "Frecuencia ordenada alfabéticamente:\n",
      "razon_social\n",
      "\"\" EL TEXANO\"\"                      1\n",
      "\"\" HARMON HALL \"\"                   1\n",
      "\"\" LA BENDICIÓN DE LOS ANGELES\"\"    1\n",
      "\"\" LA UNION\"\"                       1\n",
      "\"\" NUEVA WALMART DE MEXICO          2\n",
      "                                   ..\n",
      "Óscar Humberto Flores Partida       1\n",
      "Óscar Rene Abarca López             1\n",
      "Óscar René Debernardi Bernardi      1\n",
      "Óscar René Rodríguez Flores         1\n",
      "“EL SOL SALE PARA TODOS”            1\n",
      "Name: count, Length: 114038, dtype: int64\n"
     ]
    }
   ],
   "source": [
    "frecuiencia_razon_social = df_siem['razon_social'].value_counts()\n",
    "frecuiencia_razon_social_ordenado = frecuiencia_razon_social.index.sort_values(ascending=True)\n",
    "razon_social_ordenada = frecuiencia_razon_social.reindex(frecuiencia_razon_social_ordenado)\n",
    "print(\"\\nFrecuencia ordenada alfabéticamente:\")\n",
    "print(f'{razon_social_ordenada}')"
   ]
  },
  {
   "cell_type": "code",
   "execution_count": 9,
   "id": "4ada4534",
   "metadata": {},
   "outputs": [
    {
     "name": "stdout",
     "output_type": "stream",
     "text": [
      "\n",
      "Frecuencia ordenada alfabéticamente:\n",
      "estado\n",
      "Aguascalientes                       158\n",
      "Baja California                     3345\n",
      "Baja California Sur                 1833\n",
      "Campeche                             368\n",
      "Chiapas                             1474\n",
      "Chihuahua                           7618\n",
      "Ciudad de México                   28557\n",
      "Coahuila de Zaragoza                4385\n",
      "Colima                               526\n",
      "Durango                             1981\n",
      "Guanajuato                          4851\n",
      "Guerrero                            1009\n",
      "Hidalgo                             1000\n",
      "Jalisco                            11798\n",
      "Michoacán de Ocampo                 3075\n",
      "Morelos                             1250\n",
      "México                             11078\n",
      "Nayarit                             1711\n",
      "Nuevo León                         18466\n",
      "Oaxaca                               266\n",
      "Puebla                              5083\n",
      "Querétaro                           1043\n",
      "Quintana Roo                        3153\n",
      "San Luis Potosí                     1784\n",
      "Sinaloa                             4240\n",
      "Sonora                               688\n",
      "Tabasco                              604\n",
      "Tamaulipas                         10238\n",
      "Tlaxcala                             956\n",
      "Veracruz de Ignacio de la Llave     7423\n",
      "Yucatán                             6033\n",
      "Zacatecas                           1857\n",
      "Name: count, dtype: int64\n"
     ]
    }
   ],
   "source": [
    "frecuencia = df_siem['estado'].value_counts()\n",
    "\n",
    "estados_ordenados_alfabeticamente = frecuencia.index.sort_values(ascending=True)\n",
    "\n",
    "frecuencia_alfabetica = frecuencia.reindex(estados_ordenados_alfabeticamente)\n",
    "\n",
    "print(\"\\nFrecuencia ordenada alfabéticamente:\")\n",
    "print(f'{frecuencia_alfabetica}')"
   ]
  },
  {
   "cell_type": "code",
   "execution_count": 10,
   "id": "761194e7",
   "metadata": {},
   "outputs": [
    {
     "data": {
      "image/png": "[encoded data removed]",
      "text/plain": [
       "<Figure size 1500x700 with 1 Axes>"
      ]
     },
     "metadata": {},
     "output_type": "display_data"
    }
   ],
   "source": [
    "plt.figure(figsize=(15,7))\n",
    "ax = sns.barplot(x=frecuencia_alfabetica.index, y=frecuencia_alfabetica.values)\n",
    "\n",
    "plt.title('Frecuencia de Estados')\n",
    "plt.xlabel('Estados')\n",
    "plt.ylabel('Frecuencia')\n",
    "plt.xticks(rotation=45, ha='right')\n",
    "\n",
    "for p in ax.patches:\n",
    "    ax.annotate(f'{p.get_height():.00f}', (p.get_x() + p.get_width() / 2., p.get_height()),\n",
    "                ha='center', va='center', xytext=(0, 10), textcoords='offset points')\n",
    "\n",
    "plt.show()"
   ]
  },
  {
   "cell_type": "code",
   "execution_count": 12,
   "id": "22fda4c6",
   "metadata": {},
   "outputs": [
    {
     "name": "stdout",
     "output_type": "stream",
     "text": [
      "\n",
      "Frecuencia ordenada alfabéticamente:\n",
      "giro\n",
      "(Sin Giro)                                                     4\n",
      ",                                                             60\n",
      ",,                                                             1\n",
      "-                                                            404\n",
      "--                                                             3\n",
      "                                                            ... \n",
      "ÓPTICA                                                         6\n",
      "ÓPTICA Y REGALOS                                               1\n",
      "ÓPTICAS                                                        1\n",
      "área de cromatografía, espectrometría y espectroscopía         1\n",
      "•\\tOTRAS CONSTRUCCIONES DE INGENIERIA CIVIL U OBRA PESADA      1\n",
      "Name: count, Length: 31686, dtype: int64\n"
     ]
    }
   ],
   "source": [
    "frecuencia_giro = df_siem['giro'].value_counts()\n",
    "giro_ordenados_alfabeticamente = frecuencia_giro.index.sort_values(ascending=True)\n",
    "frecuencia_giro_alfabetica = frecuencia_giro.reindex(giro_ordenados_alfabeticamente)\n",
    "\n",
    "print(\"\\nFrecuencia ordenada alfabéticamente:\")\n",
    "print(f'{frecuencia_giro_alfabetica}')\n"
   ]
  },
  {
   "cell_type": "code",
   "execution_count": 13,
   "id": "c89ae922",
   "metadata": {},
   "outputs": [
    {
     "name": "stdout",
     "output_type": "stream",
     "text": [
      "\n",
      "Frecuencioa ordenada alfabéticamente\n",
      "rango_de_empleados\n",
      "0 a 10        125997\n",
      "11 a 50        17446\n",
      "51 a 250        3616\n",
      "más de 250       792\n",
      "Name: count, dtype: int64\n"
     ]
    }
   ],
   "source": [
    "frecuencia_rango_empleados = df_siem['rango_de_empleados'].value_counts()\n",
    "rango_empleados_ordenados = frecuencia_rango_empleados.index.sort_values(ascending=True)\n",
    "frecuencia_rango_empleados_ordenados = frecuencia_rango_empleados.reindex(rango_empleados_ordenados)\n",
    "\n",
    "print('\\nFrecuencioa ordenada alfabéticamente')\n",
    "print(frecuencia_rango_empleados_ordenados)"
   ]
  },
  {
   "cell_type": "markdown",
   "id": "e1f80373",
   "metadata": {},
   "source": [
    "##### **Detección de Valores Atípicos**"
   ]
  },
  {
   "cell_type": "code",
   "execution_count": null,
   "id": "c3e83753",
   "metadata": {},
   "outputs": [
    {
     "name": "stdout",
     "output_type": "stream",
     "text": [
      "--- Detectando CPs con longitud incorrecta (no 5 dígitos) ---\n",
      "CPs con longitud incorrecta: 21664 registros\n",
      "       cp cp_str\n",
      "25   4700   4700\n",
      "211  4369   4369\n",
      "217  4300   4300\n",
      "242     0      0\n",
      "276  3810   3810\n",
      "\n",
      "--- Detectando CPs con valores inusualmente altos o bajos (potenciales errores) ---\n",
      "CPs fuera del rango 10000-99999: 21664 registros\n",
      "       cp\n",
      "25   4700\n",
      "211  4369\n",
      "217  4300\n",
      "242     0\n",
      "276  3810\n"
     ]
    }
   ],
   "source": [
    "df_temp = df_siem.copy()\n",
    "\n",
    "df_temp['cp_str'] = df_temp['cp'].astype(str)\n",
    "\n",
    "print(\"--- Detectando CPs con longitud incorrecta (no 5 dígitos) ---\")\n",
    "cp_length_issues = df_temp[df_temp['cp_str'].apply(len) != 5]\n",
    "if not cp_length_issues.empty:\n",
    "    print(f\"CPs con longitud incorrecta: {len(cp_length_issues)} registros\")\n",
    "    print(cp_length_issues[['cp', 'cp_str']].head())\n",
    "else:\n",
    "    print(\"No se encontraron CPs con longitud incorrecta.\")\n",
    "\n",
    "\n",
    "print(\"\\n--- Detectando CPs con valores inusualmente altos o bajos (potenciales errores) ---\")\n",
    "invalid_range_cps = df_temp[(df_temp['cp'] < 10000) | (df_temp['cp'] > 99999)]\n",
    "if not invalid_range_cps.empty:\n",
    "    print(f\"CPs fuera del rango 10000-99999: {len(invalid_range_cps)} registros\")\n",
    "    print(invalid_range_cps[['cp']].head())\n",
    "else:\n",
    "    print(\"No se encontraron CPs fuera del rango 10000-99999.\")"
   ]
  },
  {
   "cell_type": "markdown",
   "id": "d4177e08",
   "metadata": {},
   "source": [
    "Se detectaron 21664 valores atípicos en la columna cp (Código postas) por lo que se desidira si se elimina la columnas o se conserva y corrige."
   ]
  }
 ],
 "metadata": {
  "kernelspec": {
   "display_name": "venv",
   "language": "python",
   "name": "python3"
  },
  "language_info": {
   "codemirror_mode": {
    "name": "ipython",
    "version": 3
   },
   "file_extension": ".py",
   "mimetype": "text/x-python",
   "name": "python",
   "nbconvert_exporter": "python",
   "pygments_lexer": "ipython3",
   "version": "3.12.1"
  }
 },
 "nbformat": 4,
 "nbformat_minor": 5
}
